{
 "cells": [
  {
   "cell_type": "code",
   "execution_count": 1,
   "id": "d82cb11b",
   "metadata": {},
   "outputs": [
    {
     "ename": "ModuleNotFoundError",
     "evalue": "No module named 'my'",
     "output_type": "error",
     "traceback": [
      "\u001b[1;31m---------------------------------------------------------------------------\u001b[0m",
      "\u001b[1;31mModuleNotFoundError\u001b[0m                       Traceback (most recent call last)",
      "Cell \u001b[1;32mIn[1], line 1\u001b[0m\n\u001b[1;32m----> 1\u001b[0m \u001b[38;5;28;01mimport\u001b[39;00m \u001b[38;5;21;01mmy\u001b[39;00m\n",
      "\u001b[1;31mModuleNotFoundError\u001b[0m: No module named 'my'"
     ]
    }
   ],
   "source": [
    "import my"
   ]
  },
  {
   "cell_type": "code",
   "execution_count": null,
   "id": "74b86cfb",
   "metadata": {},
   "outputs": [],
   "source": [
    "my.sayhello()"
   ]
  },
  {
   "cell_type": "code",
   "execution_count": null,
   "id": "e8e827a5",
   "metadata": {},
   "outputs": [],
   "source": [
    "a=range(10)\n",
    "for i in a:\n",
    "    print (i)"
   ]
  },
  {
   "cell_type": "code",
   "execution_count": null,
   "id": "9e197126",
   "metadata": {},
   "outputs": [],
   "source": []
  },
  {
   "cell_type": "code",
   "execution_count": 1,
   "id": "c3aac23c",
   "metadata": {},
   "outputs": [
    {
     "ename": "TypeError",
     "evalue": "object of type 'Response' has no len()",
     "output_type": "error",
     "traceback": [
      "\u001b[1;31m---------------------------------------------------------------------------\u001b[0m",
      "\u001b[1;31mTypeError\u001b[0m                                 Traceback (most recent call last)",
      "Cell \u001b[1;32mIn[1], line 6\u001b[0m\n\u001b[0;32m      4\u001b[0m headers\u001b[38;5;241m=\u001b[39m{\u001b[38;5;124m'\u001b[39m\u001b[38;5;124mUser-Agent\u001b[39m\u001b[38;5;124m'\u001b[39m:\u001b[38;5;124m'\u001b[39m\u001b[38;5;124mMozilla/5.0 (Windows NT 10.0; Win64; x64) AppleWebKit/537.36 (KHTML, like Gecko) Chrome/119.0.0.0 Safari/537.36 Edg/119.0.0.0\u001b[39m\u001b[38;5;124m'\u001b[39m}\n\u001b[0;32m      5\u001b[0m response\u001b[38;5;241m=\u001b[39mrequests\u001b[38;5;241m.\u001b[39mget(url,headers\u001b[38;5;241m=\u001b[39mheaders)\n\u001b[1;32m----> 6\u001b[0m soup\u001b[38;5;241m=\u001b[39mBeautifulSoup (response)\n",
      "File \u001b[1;32m~\\anaconda3\\Lib\\site-packages\\bs4\\__init__.py:315\u001b[0m, in \u001b[0;36mBeautifulSoup.__init__\u001b[1;34m(self, markup, features, builder, parse_only, from_encoding, exclude_encodings, element_classes, **kwargs)\u001b[0m\n\u001b[0;32m    313\u001b[0m \u001b[38;5;28;01mif\u001b[39;00m \u001b[38;5;28mhasattr\u001b[39m(markup, \u001b[38;5;124m'\u001b[39m\u001b[38;5;124mread\u001b[39m\u001b[38;5;124m'\u001b[39m):        \u001b[38;5;66;03m# It's a file-type object.\u001b[39;00m\n\u001b[0;32m    314\u001b[0m     markup \u001b[38;5;241m=\u001b[39m markup\u001b[38;5;241m.\u001b[39mread()\n\u001b[1;32m--> 315\u001b[0m \u001b[38;5;28;01melif\u001b[39;00m \u001b[38;5;28mlen\u001b[39m(markup) \u001b[38;5;241m<\u001b[39m\u001b[38;5;241m=\u001b[39m \u001b[38;5;241m256\u001b[39m \u001b[38;5;129;01mand\u001b[39;00m (\n\u001b[0;32m    316\u001b[0m         (\u001b[38;5;28misinstance\u001b[39m(markup, \u001b[38;5;28mbytes\u001b[39m) \u001b[38;5;129;01mand\u001b[39;00m \u001b[38;5;129;01mnot\u001b[39;00m \u001b[38;5;124mb\u001b[39m\u001b[38;5;124m'\u001b[39m\u001b[38;5;124m<\u001b[39m\u001b[38;5;124m'\u001b[39m \u001b[38;5;129;01min\u001b[39;00m markup)\n\u001b[0;32m    317\u001b[0m         \u001b[38;5;129;01mor\u001b[39;00m (\u001b[38;5;28misinstance\u001b[39m(markup, \u001b[38;5;28mstr\u001b[39m) \u001b[38;5;129;01mand\u001b[39;00m \u001b[38;5;129;01mnot\u001b[39;00m \u001b[38;5;124m'\u001b[39m\u001b[38;5;124m<\u001b[39m\u001b[38;5;124m'\u001b[39m \u001b[38;5;129;01min\u001b[39;00m markup)\n\u001b[0;32m    318\u001b[0m ):\n\u001b[0;32m    319\u001b[0m     \u001b[38;5;66;03m# Issue warnings for a couple beginner problems\u001b[39;00m\n\u001b[0;32m    320\u001b[0m     \u001b[38;5;66;03m# involving passing non-markup to Beautiful Soup.\u001b[39;00m\n\u001b[0;32m    321\u001b[0m     \u001b[38;5;66;03m# Beautiful Soup will still parse the input as markup,\u001b[39;00m\n\u001b[0;32m    322\u001b[0m     \u001b[38;5;66;03m# since that is sometimes the intended behavior.\u001b[39;00m\n\u001b[0;32m    323\u001b[0m     \u001b[38;5;28;01mif\u001b[39;00m \u001b[38;5;129;01mnot\u001b[39;00m \u001b[38;5;28mself\u001b[39m\u001b[38;5;241m.\u001b[39m_markup_is_url(markup):\n\u001b[0;32m    324\u001b[0m         \u001b[38;5;28mself\u001b[39m\u001b[38;5;241m.\u001b[39m_markup_resembles_filename(markup)                \n",
      "\u001b[1;31mTypeError\u001b[0m: object of type 'Response' has no len()"
     ]
    }
   ],
   "source": [
    "import requests\n",
    "from bs4 import BeautifulSoup\n",
    "url=\"https://www.linkedin.com/in/celinewan/?originalSubdomain=sg\"\n",
    "headers={'User-Agent':'Mozilla/5.0 (Windows NT 10.0; Win64; x64) AppleWebKit/537.36 (KHTML, like Gecko) Chrome/119.0.0.0 Safari/537.36 Edg/119.0.0.0'}\n",
    "response=requests.get(url,headers=headers)\n",
    "soup=BeautifulSoup(response)"
   ]
  },
  {
   "cell_type": "code",
   "execution_count": 3,
   "id": "4338b3ba",
   "metadata": {},
   "outputs": [
    {
     "ename": "InvalidArgumentException",
     "evalue": "Message: invalid argument: 'url' must be a string\n  (Session info: chrome=119.0.6045.160)\nStacktrace:\n\tGetHandleVerifier [0x00007FF73CC282B2+55298]\n\t(No symbol) [0x00007FF73CB95E02]\n\t(No symbol) [0x00007FF73CA505AB]\n\t(No symbol) [0x00007FF73CACAEFA]\n\t(No symbol) [0x00007FF73CAB20AA]\n\t(No symbol) [0x00007FF73CACAAA4]\n\t(No symbol) [0x00007FF73CAB1E83]\n\t(No symbol) [0x00007FF73CA8670A]\n\t(No symbol) [0x00007FF73CA87964]\n\tGetHandleVerifier [0x00007FF73CFA0AAB+3694587]\n\tGetHandleVerifier [0x00007FF73CFF728E+4048862]\n\tGetHandleVerifier [0x00007FF73CFEF173+4015811]\n\tGetHandleVerifier [0x00007FF73CCC47D6+695590]\n\t(No symbol) [0x00007FF73CBA0CE8]\n\t(No symbol) [0x00007FF73CB9CF34]\n\t(No symbol) [0x00007FF73CB9D062]\n\t(No symbol) [0x00007FF73CB8D3A3]\n\tBaseThreadInitThunk [0x00007FFDD0DA257D+29]\n\tRtlUserThreadStart [0x00007FFDD2CCAA58+40]\n",
     "output_type": "error",
     "traceback": [
      "\u001b[1;31m---------------------------------------------------------------------------\u001b[0m",
      "\u001b[1;31mInvalidArgumentException\u001b[0m                  Traceback (most recent call last)",
      "Cell \u001b[1;32mIn[3], line 50\u001b[0m\n\u001b[0;32m     45\u001b[0m     lnks\u001b[38;5;241m.\u001b[39mappend(linkedin_urls)\n\u001b[0;32m     47\u001b[0m \u001b[38;5;28;01mfor\u001b[39;00m x \u001b[38;5;129;01min\u001b[39;00m lnks:\n\u001b[0;32m     48\u001b[0m     \u001b[38;5;66;03m#for i in x:\u001b[39;00m\n\u001b[1;32m---> 50\u001b[0m     driver\u001b[38;5;241m.\u001b[39mget(i)\n\u001b[0;32m     51\u001b[0m     time\u001b[38;5;241m.\u001b[39msleep(random\u001b[38;5;241m.\u001b[39muniform(\u001b[38;5;241m2.5\u001b[39m,\u001b[38;5;241m4.9\u001b[39m))\n\u001b[0;32m     53\u001b[0m     sel\u001b[38;5;241m=\u001b[39mSelector(text\u001b[38;5;241m=\u001b[39mdriver\u001b[38;5;241m.\u001b[39mpage_source)\n",
      "File \u001b[1;32m~\\anaconda3\\Lib\\site-packages\\selenium\\webdriver\\remote\\webdriver.py:356\u001b[0m, in \u001b[0;36mWebDriver.get\u001b[1;34m(self, url)\u001b[0m\n\u001b[0;32m    354\u001b[0m \u001b[38;5;28;01mdef\u001b[39;00m \u001b[38;5;21mget\u001b[39m(\u001b[38;5;28mself\u001b[39m, url: \u001b[38;5;28mstr\u001b[39m) \u001b[38;5;241m-\u001b[39m\u001b[38;5;241m>\u001b[39m \u001b[38;5;28;01mNone\u001b[39;00m:\n\u001b[0;32m    355\u001b[0m \u001b[38;5;250m    \u001b[39m\u001b[38;5;124;03m\"\"\"Loads a web page in the current browser session.\"\"\"\u001b[39;00m\n\u001b[1;32m--> 356\u001b[0m     \u001b[38;5;28mself\u001b[39m\u001b[38;5;241m.\u001b[39mexecute(Command\u001b[38;5;241m.\u001b[39mGET, {\u001b[38;5;124m\"\u001b[39m\u001b[38;5;124murl\u001b[39m\u001b[38;5;124m\"\u001b[39m: url})\n",
      "File \u001b[1;32m~\\anaconda3\\Lib\\site-packages\\selenium\\webdriver\\remote\\webdriver.py:347\u001b[0m, in \u001b[0;36mWebDriver.execute\u001b[1;34m(self, driver_command, params)\u001b[0m\n\u001b[0;32m    345\u001b[0m response \u001b[38;5;241m=\u001b[39m \u001b[38;5;28mself\u001b[39m\u001b[38;5;241m.\u001b[39mcommand_executor\u001b[38;5;241m.\u001b[39mexecute(driver_command, params)\n\u001b[0;32m    346\u001b[0m \u001b[38;5;28;01mif\u001b[39;00m response:\n\u001b[1;32m--> 347\u001b[0m     \u001b[38;5;28mself\u001b[39m\u001b[38;5;241m.\u001b[39merror_handler\u001b[38;5;241m.\u001b[39mcheck_response(response)\n\u001b[0;32m    348\u001b[0m     response[\u001b[38;5;124m\"\u001b[39m\u001b[38;5;124mvalue\u001b[39m\u001b[38;5;124m\"\u001b[39m] \u001b[38;5;241m=\u001b[39m \u001b[38;5;28mself\u001b[39m\u001b[38;5;241m.\u001b[39m_unwrap_value(response\u001b[38;5;241m.\u001b[39mget(\u001b[38;5;124m\"\u001b[39m\u001b[38;5;124mvalue\u001b[39m\u001b[38;5;124m\"\u001b[39m, \u001b[38;5;28;01mNone\u001b[39;00m))\n\u001b[0;32m    349\u001b[0m     \u001b[38;5;28;01mreturn\u001b[39;00m response\n",
      "File \u001b[1;32m~\\anaconda3\\Lib\\site-packages\\selenium\\webdriver\\remote\\errorhandler.py:229\u001b[0m, in \u001b[0;36mErrorHandler.check_response\u001b[1;34m(self, response)\u001b[0m\n\u001b[0;32m    227\u001b[0m         alert_text \u001b[38;5;241m=\u001b[39m value[\u001b[38;5;124m\"\u001b[39m\u001b[38;5;124malert\u001b[39m\u001b[38;5;124m\"\u001b[39m]\u001b[38;5;241m.\u001b[39mget(\u001b[38;5;124m\"\u001b[39m\u001b[38;5;124mtext\u001b[39m\u001b[38;5;124m\"\u001b[39m)\n\u001b[0;32m    228\u001b[0m     \u001b[38;5;28;01mraise\u001b[39;00m exception_class(message, screen, stacktrace, alert_text)  \u001b[38;5;66;03m# type: ignore[call-arg]  # mypy is not smart enough here\u001b[39;00m\n\u001b[1;32m--> 229\u001b[0m \u001b[38;5;28;01mraise\u001b[39;00m exception_class(message, screen, stacktrace)\n",
      "\u001b[1;31mInvalidArgumentException\u001b[0m: Message: invalid argument: 'url' must be a string\n  (Session info: chrome=119.0.6045.160)\nStacktrace:\n\tGetHandleVerifier [0x00007FF73CC282B2+55298]\n\t(No symbol) [0x00007FF73CB95E02]\n\t(No symbol) [0x00007FF73CA505AB]\n\t(No symbol) [0x00007FF73CACAEFA]\n\t(No symbol) [0x00007FF73CAB20AA]\n\t(No symbol) [0x00007FF73CACAAA4]\n\t(No symbol) [0x00007FF73CAB1E83]\n\t(No symbol) [0x00007FF73CA8670A]\n\t(No symbol) [0x00007FF73CA87964]\n\tGetHandleVerifier [0x00007FF73CFA0AAB+3694587]\n\tGetHandleVerifier [0x00007FF73CFF728E+4048862]\n\tGetHandleVerifier [0x00007FF73CFEF173+4015811]\n\tGetHandleVerifier [0x00007FF73CCC47D6+695590]\n\t(No symbol) [0x00007FF73CBA0CE8]\n\t(No symbol) [0x00007FF73CB9CF34]\n\t(No symbol) [0x00007FF73CB9D062]\n\t(No symbol) [0x00007FF73CB8D3A3]\n\tBaseThreadInitThunk [0x00007FFDD0DA257D+29]\n\tRtlUserThreadStart [0x00007FFDD2CCAA58+40]\n"
     ]
    }
   ],
   "source": [
    "import pandas as pd\n",
    "from parsel import Selector\n",
    "from time import sleep\n",
    "import time\n",
    "from selenium import webdriver\n",
    "from selenium.webdriver.common.by import By\n",
    "from selenium.webdriver.support.ui import WebDriverWait\n",
    "from selenium.webdriver.support import expected_conditions as EC\n",
    "from selenium.webdriver.chrome.options import Options\n",
    "from selenium.webdriver.common.keys import Keys\n",
    "import random\n",
    "\n",
    "\n",
    "opts = Options( )\n",
    "\n",
    "driver =webdriver.Chrome(options=opts)\n",
    "\n",
    "\n",
    "def validate_field(field):\n",
    "    if field:\n",
    "        pass\n",
    "    else:\n",
    "        field='No results'\n",
    "    return field\n",
    "\n",
    "driver.get('https://www.linkedin.com')\n",
    "username=driver.find_element(By.ID,'session_key')\n",
    "username.send_keys('j50645030@gmail.com')\n",
    "sleep(0.5)\n",
    "password=driver.find_element(By.ID,'session_password')\n",
    "\n",
    "password.send_keys('123456Abc')\n",
    "sleep (0.5)\n",
    "sign_in_button=driver.find_element(By.XPATH,'//*[@type=\"submit\"]')\n",
    "\n",
    "sign_in_button.click()\n",
    "sleep(15)\n",
    "\n",
    "Jobdata=[]\n",
    "lnks=[]\n",
    "for x in range (0,20,10):\n",
    "    driver.get(f'https://www.google.com/search?q=linkedin+international+council+of+malaysian+scholars&oq=linkedin+international+council+of+malaysian+scholars&gs_lcrp=EgZjaHJvbWUyBggAEEUYOTIHCAEQIRigATIKCAIQIRgWGB0YHtIBCTEzMTA5ajBqMagCALACAA&sourceid=chrome&ie=UTF-8#ip=1{x}')\n",
    "    time.sleep(random.uniform(2.5,4.9))\n",
    "    linkedin_urls=[my_elem.get_attribute(\"href\")for my_elem in WebDriverWait (driver,20).until(EC.visibility_of_all_elements_located((By.XPATH,\"//div[@class='MjjYud']\")))]\n",
    "    lnks.append(linkedin_urls)\n",
    "    \n",
    "for x in lnks:\n",
    "    for i in x:\n",
    "        \n",
    "        driver.get(i) \n",
    "        time.sleep(random.uniform(2.5,4.9))\n",
    "        \n",
    "        sel=Selector(text=driver.page_source)\n",
    "        \n",
    "        name=sel.xpath('//*[starts-with(@class,\"JruelBwhnGTBezeDsXPMNNYdeuFNfTIFU\")]/text()').extract\n",
    "        \n",
    "        if name:\n",
    "            name=name.strip()\n",
    "            \n",
    "        job_title= sel.xpath('//*[starts-with(@class,\"display-flex flex-wrap align-items-center full-height\")]/text()').extract_first()\n",
    "        \n",
    "        if job_title:\n",
    "            job_title=job_title.strip()\n",
    "        \n",
    "        try:\n",
    "            company=driver.find_element(By.XPATH,'//ul[@class=\"t-14 t-normal\"]').text\n",
    "            \n",
    "        except:\n",
    "            company= 'None'\n",
    "        \n",
    "        if company:\n",
    "            comapny=company.strip()\n",
    "        \n",
    "        time=sel.xpath('//*[starts-with(@class,\"pvs-entity__caption-wrapper\")]/text()').extract\n",
    "        \n",
    "        if time:\n",
    "            time=time.strip()\n",
    "            \n",
    "        name=validate_field(name)\n",
    "        job_title=validate_field(job_title)\n",
    "        company= validate_field(company)\n",
    "        time=validate_field(time)\n",
    "        linkedin_url=validate_field(linkedin_url)\n",
    "        \n",
    "        print('\\n')\n",
    "        print('Name:'+name)\n",
    "        print('Company:'+company)\n",
    "        print('Job Title:'+ job_title)\n",
    "        print('Time:'+ time)\n",
    "        print('URL:'+linkedin_url)\n",
    "        print('\\n')\n",
    "        \n",
    "        data={\n",
    "            'Name:'+name,\n",
    "            'Company:'+company,\n",
    "            'Job Title:'+ job_title,\n",
    "            'Time:'+ time,\n",
    "            'URL:'+linkedin_url\n",
    "                }\n",
    "        Jobdata.append(data)\n",
    "        \n",
    "\n",
    "df=pd.DataFrame(Jobdata)\n",
    "df.to_excel('Jobdata_linkedin.xlsx')\n",
    "\n",
    "driver.quit()"
   ]
  },
  {
   "cell_type": "code",
   "execution_count": null,
   "id": "0fc0c6b1",
   "metadata": {},
   "outputs": [],
   "source": []
  },
  {
   "cell_type": "code",
   "execution_count": null,
   "id": "289ba07f",
   "metadata": {},
   "outputs": [],
   "source": []
  }
 ],
 "metadata": {
  "kernelspec": {
   "display_name": "Python 3 (ipykernel)",
   "language": "python",
   "name": "python3"
  },
  "language_info": {
   "codemirror_mode": {
    "name": "ipython",
    "version": 3
   },
   "file_extension": ".py",
   "mimetype": "text/x-python",
   "name": "python",
   "nbconvert_exporter": "python",
   "pygments_lexer": "ipython3",
   "version": "3.11.5"
  }
 },
 "nbformat": 4,
 "nbformat_minor": 5
}
